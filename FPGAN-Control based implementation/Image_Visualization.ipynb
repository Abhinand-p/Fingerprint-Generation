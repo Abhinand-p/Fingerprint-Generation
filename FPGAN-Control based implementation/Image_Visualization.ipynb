{
 "cells": [
  {
   "cell_type": "code",
   "execution_count": 42,
   "metadata": {
    "collapsed": true,
    "ExecuteTime": {
     "end_time": "2024-03-24T07:14:29.108010Z",
     "start_time": "2024-03-24T07:14:29.059812Z"
    }
   },
   "outputs": [],
   "source": [
    "import os\n",
    "import cv2\n",
    "import numpy as np\n",
    "import imageio\n",
    "from PIL import Image"
   ]
  },
  {
   "cell_type": "code",
   "execution_count": 43,
   "outputs": [],
   "source": [
    "folder_paths = [\n",
    "    \"Generated Images - 100 IDs/Generated_Images_100_10/ID_0000000\",\n",
    "    \"Generated Images - 100 IDs/Generated_Images_100_10/ID_0000001\",\n",
    "    \"Generated Images - 100 IDs/Generated_Images_100_10/ID_0000002\",\n",
    "    \"Generated Images - 100 IDs/Generated_Images_100_10/ID_0000003\",\n",
    "    \"Generated Images - 100 IDs/Generated_Images_100_10/ID_0000004\",\n",
    "    \"Generated Images - 100 IDs/Generated_Images_100_10/ID_0000005\",\n",
    "    \"Generated Images - 100 IDs/Generated_Images_100_10/ID_0000006\",\n",
    "    \"Generated Images - 100 IDs/Generated_Images_100_10/ID_0000007\"\n",
    "]"
   ],
   "metadata": {
    "collapsed": false,
    "ExecuteTime": {
     "end_time": "2024-03-24T07:14:29.108620Z",
     "start_time": "2024-03-24T07:14:29.063267Z"
    }
   }
  },
  {
   "cell_type": "code",
   "execution_count": 44,
   "outputs": [],
   "source": [
    "output_dir = \"Visualizing_Generated_Images\"\n",
    "os.makedirs(output_dir, exist_ok=True)"
   ],
   "metadata": {
    "collapsed": false,
    "ExecuteTime": {
     "end_time": "2024-03-24T07:14:29.124606Z",
     "start_time": "2024-03-24T07:14:29.065796Z"
    }
   }
  },
  {
   "cell_type": "code",
   "execution_count": 45,
   "outputs": [],
   "source": [
    "image_lists = []\n",
    "grid_size = (8, 8)"
   ],
   "metadata": {
    "collapsed": false,
    "ExecuteTime": {
     "end_time": "2024-03-24T07:14:29.124803Z",
     "start_time": "2024-03-24T07:14:29.069605Z"
    }
   }
  },
  {
   "cell_type": "code",
   "execution_count": 46,
   "outputs": [],
   "source": [
    "max_images_per_folder = 8\n",
    "for folder_path in folder_paths:\n",
    "    images = []\n",
    "    count = 0\n",
    "    for filename in os.listdir(folder_path):\n",
    "        if count >= max_images_per_folder:\n",
    "            break\n",
    "        if filename.endswith(\".png\") or filename.endswith(\".jpg\"):\n",
    "            image_path = os.path.join(folder_path, filename)\n",
    "            image = Image.open(image_path)\n",
    "            images.append(image)\n",
    "            count += 1\n",
    "    image_lists.append(images)"
   ],
   "metadata": {
    "collapsed": false,
    "ExecuteTime": {
     "end_time": "2024-03-24T07:14:29.125102Z",
     "start_time": "2024-03-24T07:14:29.074845Z"
    }
   }
  },
  {
   "cell_type": "code",
   "execution_count": 47,
   "outputs": [],
   "source": [
    "image_width, image_height = image_lists[0][0].size"
   ],
   "metadata": {
    "collapsed": false,
    "ExecuteTime": {
     "end_time": "2024-03-24T07:14:29.125148Z",
     "start_time": "2024-03-24T07:14:29.102702Z"
    }
   }
  },
  {
   "cell_type": "code",
   "execution_count": 48,
   "outputs": [],
   "source": [
    "grid_image = Image.new('RGB', (image_width * grid_size[1], image_height * grid_size[0]))"
   ],
   "metadata": {
    "collapsed": false,
    "ExecuteTime": {
     "end_time": "2024-03-24T07:14:29.125266Z",
     "start_time": "2024-03-24T07:14:29.105137Z"
    }
   }
  },
  {
   "cell_type": "code",
   "execution_count": 49,
   "outputs": [],
   "source": [
    "for i in range(grid_size[0]):\n",
    "    for j in range(grid_size[1]):\n",
    "        folder_index = j\n",
    "        image_index = i\n",
    "        if folder_index < len(image_lists) and image_index < len(image_lists[folder_index]):\n",
    "            grid_image.paste(image_lists[folder_index][image_index], (j * image_width, i * image_height))"
   ],
   "metadata": {
    "collapsed": false,
    "ExecuteTime": {
     "end_time": "2024-03-24T07:14:29.290028Z",
     "start_time": "2024-03-24T07:14:29.113709Z"
    }
   }
  },
  {
   "cell_type": "code",
   "execution_count": 50,
   "outputs": [],
   "source": [
    "grid_image.save(os.path.join(output_dir, \"1.Combined_image.png\"))"
   ],
   "metadata": {
    "collapsed": false,
    "ExecuteTime": {
     "end_time": "2024-03-24T07:14:31.356106Z",
     "start_time": "2024-03-24T07:14:29.290602Z"
    }
   }
  },
  {
   "cell_type": "code",
   "execution_count": 51,
   "outputs": [],
   "source": [
    "def draw_keypoints(image, keypoints):\n",
    "    img_with_keypoints = image.copy()\n",
    "    for kp in keypoints:\n",
    "        x, y = int(kp.pt[0]), int(kp.pt[1])\n",
    "        # Idea: Drawing a blue circle for each key-pint identified\n",
    "        cv2.circle(img_with_keypoints, (x, y), 3, (255, 0, 0), -1)\n",
    "    return img_with_keypoints"
   ],
   "metadata": {
    "collapsed": false,
    "ExecuteTime": {
     "end_time": "2024-03-24T07:14:31.358655Z",
     "start_time": "2024-03-24T07:14:31.357137Z"
    }
   }
  },
  {
   "cell_type": "code",
   "execution_count": 52,
   "outputs": [],
   "source": [
    "def process_fingerprint_image(image_path):\n",
    "    fingerprint_img = cv2.imread(image_path)\n",
    "    sift = cv2.SIFT_create()\n",
    "    keypoints = sift.detect(fingerprint_img, None)\n",
    "    image_with_keypoints = draw_keypoints(fingerprint_img, keypoints)\n",
    "    return image_with_keypoints"
   ],
   "metadata": {
    "collapsed": false,
    "ExecuteTime": {
     "end_time": "2024-03-24T07:14:31.361084Z",
     "start_time": "2024-03-24T07:14:31.360022Z"
    }
   }
  },
  {
   "cell_type": "code",
   "execution_count": 53,
   "outputs": [],
   "source": [
    "processed_images = []"
   ],
   "metadata": {
    "collapsed": false,
    "ExecuteTime": {
     "end_time": "2024-03-24T07:14:31.365109Z",
     "start_time": "2024-03-24T07:14:31.363715Z"
    }
   }
  },
  {
   "cell_type": "code",
   "execution_count": 54,
   "outputs": [],
   "source": [
    "for folder_path in folder_paths:\n",
    "    images = []\n",
    "    count = 0\n",
    "    for filename in os.listdir(folder_path):\n",
    "        if count >= max_images_per_folder:\n",
    "            break\n",
    "        if filename.endswith(\".png\") or filename.endswith(\".jpg\"):\n",
    "            image_path = os.path.join(folder_path, filename)\n",
    "            image_with_keypoints = process_fingerprint_image(image_path)\n",
    "            images.append(image_with_keypoints)\n",
    "            count += 1\n",
    "    processed_images.append(images)"
   ],
   "metadata": {
    "collapsed": false,
    "ExecuteTime": {
     "end_time": "2024-03-24T07:14:32.528763Z",
     "start_time": "2024-03-24T07:14:31.366868Z"
    }
   }
  },
  {
   "cell_type": "code",
   "execution_count": 55,
   "outputs": [],
   "source": [
    "image_width, image_height = processed_images[0][0].shape[1], processed_images[0][0].shape[0]\n",
    "grid_image = Image.new('RGB', (image_width * grid_size[1], image_height * grid_size[0]))"
   ],
   "metadata": {
    "collapsed": false,
    "ExecuteTime": {
     "end_time": "2024-03-24T07:14:32.542262Z",
     "start_time": "2024-03-24T07:14:32.532810Z"
    }
   }
  },
  {
   "cell_type": "code",
   "execution_count": 56,
   "outputs": [],
   "source": [
    "for i in range(grid_size[0]):\n",
    "    for j in range(grid_size[1]):\n",
    "        folder_index = j\n",
    "        image_index = i\n",
    "        if folder_index < len(processed_images) and image_index < len(processed_images[folder_index]):\n",
    "            img = processed_images[folder_index][image_index]\n",
    "            img = cv2.cvtColor(img, cv2.COLOR_BGR2RGB)\n",
    "            img = Image.fromarray(img)\n",
    "            grid_image.paste(img, (j * image_width, i * image_height))"
   ],
   "metadata": {
    "collapsed": false,
    "ExecuteTime": {
     "end_time": "2024-03-24T07:14:32.563493Z",
     "start_time": "2024-03-24T07:14:32.543967Z"
    }
   }
  },
  {
   "cell_type": "code",
   "execution_count": 57,
   "outputs": [],
   "source": [
    "grid_image.save(os.path.join(output_dir, \"2.Combined_image_with_keypoints.png\"))"
   ],
   "metadata": {
    "collapsed": false,
    "ExecuteTime": {
     "end_time": "2024-03-24T07:14:34.051337Z",
     "start_time": "2024-03-24T07:14:32.563967Z"
    }
   }
  },
  {
   "cell_type": "code",
   "execution_count": 58,
   "outputs": [],
   "source": [
    "def process_fingerprint_image(image_path):\n",
    "    fingerprint_img = cv2.imread(image_path, cv2.IMREAD_GRAYSCALE)\n",
    "\n",
    "    # Apply Gaussian blur\n",
    "    blurred = cv2.GaussianBlur(fingerprint_img, (5, 5), 0)\n",
    "\n",
    "    # Perform Canny edge detection\n",
    "    edges = cv2.Canny(blurred, 30, 150)\n",
    "\n",
    "    # Perform Hough transform for line detection\n",
    "    lines = cv2.HoughLines(edges, 1, np.pi / 180, 200)\n",
    "\n",
    "    # If lines are detected, visualize them on the original image\n",
    "    if lines is not None:\n",
    "        lines_img = cv2.cvtColor(edges, cv2.COLOR_GRAY2BGR)\n",
    "        for line in lines:\n",
    "            rho, theta = line[0]\n",
    "            a = np.cos(theta)\n",
    "            b = np.sin(theta)\n",
    "            x0 = a * rho\n",
    "            y0 = b * rho\n",
    "            x1 = int(x0 + 1000 * (-b))\n",
    "            y1 = int(y0 + 1000 * (a))\n",
    "            x2 = int(x0 - 1000 * (-b))\n",
    "            y2 = int(y0 - 1000 * (a))\n",
    "            cv2.line(lines_img, (x1, y1), (x2, y2), (0, 0, 255), 2)\n",
    "    else:\n",
    "        lines_img = np.zeros_like(fingerprint_img)\n",
    "\n",
    "    return edges, lines_img"
   ],
   "metadata": {
    "collapsed": false,
    "ExecuteTime": {
     "end_time": "2024-03-24T07:14:34.055385Z",
     "start_time": "2024-03-24T07:14:34.053968Z"
    }
   }
  },
  {
   "cell_type": "code",
   "execution_count": 59,
   "outputs": [],
   "source": [
    "edge_detection_results = []\n",
    "lines_visualized_images = []"
   ],
   "metadata": {
    "collapsed": false,
    "ExecuteTime": {
     "end_time": "2024-03-24T07:14:34.059018Z",
     "start_time": "2024-03-24T07:14:34.057556Z"
    }
   }
  },
  {
   "cell_type": "code",
   "execution_count": 60,
   "outputs": [],
   "source": [
    "for folder_path in folder_paths:\n",
    "    edge_detection_results_per_folder = []\n",
    "    lines_visualized_images_per_folder = []\n",
    "    count = 0\n",
    "    for filename in os.listdir(folder_path):\n",
    "        if count >= max_images_per_folder:\n",
    "            break\n",
    "        if filename.endswith(\".png\") or filename.endswith(\".jpg\"):\n",
    "            image_path = os.path.join(folder_path, filename)\n",
    "            edges, lines_img = process_fingerprint_image(image_path)\n",
    "            edge_detection_results_per_folder.append(edges)\n",
    "            lines_visualized_images_per_folder.append(lines_img)\n",
    "            count += 1\n",
    "    edge_detection_results.append(edge_detection_results_per_folder)\n",
    "    lines_visualized_images.append(lines_visualized_images_per_folder)"
   ],
   "metadata": {
    "collapsed": false,
    "ExecuteTime": {
     "end_time": "2024-03-24T07:14:34.506811Z",
     "start_time": "2024-03-24T07:14:34.061001Z"
    }
   }
  },
  {
   "cell_type": "code",
   "execution_count": 61,
   "outputs": [],
   "source": [
    "image_width, image_height = edge_detection_results[0][0].shape[1], edge_detection_results[0][0].shape[0]\n",
    "grid_image_edges = Image.new('RGB', (image_width * grid_size[1], image_height * grid_size[0]))"
   ],
   "metadata": {
    "collapsed": false,
    "ExecuteTime": {
     "end_time": "2024-03-24T07:14:34.513231Z",
     "start_time": "2024-03-24T07:14:34.507100Z"
    }
   }
  },
  {
   "cell_type": "code",
   "execution_count": 62,
   "outputs": [],
   "source": [
    "for i in range(grid_size[0]):\n",
    "    for j in range(grid_size[1]):\n",
    "        folder_index = j\n",
    "        image_index = i\n",
    "        if folder_index < len(edge_detection_results) and image_index < len(edge_detection_results[folder_index]):\n",
    "            img = edge_detection_results[folder_index][image_index]\n",
    "            img = cv2.cvtColor(img, cv2.COLOR_GRAY2RGB)\n",
    "            img = Image.fromarray(img)\n",
    "            grid_image_edges.paste(img, (j * image_width, i * image_height))"
   ],
   "metadata": {
    "collapsed": false,
    "ExecuteTime": {
     "end_time": "2024-03-24T07:14:34.526871Z",
     "start_time": "2024-03-24T07:14:34.515292Z"
    }
   }
  },
  {
   "cell_type": "code",
   "execution_count": 63,
   "outputs": [],
   "source": [
    "grid_image_edges.save(os.path.join(output_dir, \"3.Combined_edge_detection_results.png\"))"
   ],
   "metadata": {
    "collapsed": false,
    "ExecuteTime": {
     "end_time": "2024-03-24T07:14:35.599807Z",
     "start_time": "2024-03-24T07:14:34.528056Z"
    }
   }
  },
  {
   "cell_type": "code",
   "execution_count": 64,
   "outputs": [],
   "source": [
    "grid_image_lines = Image.new('RGB', (image_width * grid_size[1], image_height * grid_size[0]))\n",
    "\n",
    "for i in range(grid_size[0]):\n",
    "    for j in range(grid_size[1]):\n",
    "        folder_index = j\n",
    "        image_index = i\n",
    "        if folder_index < len(lines_visualized_images) and image_index < len(lines_visualized_images[folder_index]):\n",
    "            img = lines_visualized_images[folder_index][image_index]\n",
    "            img = cv2.cvtColor(img, cv2.COLOR_BGR2RGB)\n",
    "            img = Image.fromarray(img)\n",
    "            grid_image_lines.paste(img, (j * image_width, i * image_height))"
   ],
   "metadata": {
    "collapsed": false,
    "ExecuteTime": {
     "end_time": "2024-03-24T07:14:35.618726Z",
     "start_time": "2024-03-24T07:14:35.601399Z"
    }
   }
  },
  {
   "cell_type": "code",
   "execution_count": 65,
   "outputs": [],
   "source": [
    "grid_image_lines.save(os.path.join(output_dir, \"4.Combined_lines_visualized_images.png\"))"
   ],
   "metadata": {
    "collapsed": false,
    "ExecuteTime": {
     "end_time": "2024-03-24T07:14:36.429920Z",
     "start_time": "2024-03-24T07:14:35.619355Z"
    }
   }
  },
  {
   "cell_type": "code",
   "execution_count": 66,
   "outputs": [],
   "source": [
    "def process_fingerprint_image(image_path):\n",
    "    fingerprint_img = cv2.imread(image_path, cv2.IMREAD_GRAYSCALE)\n",
    "\n",
    "    # Apply Gaussian blur\n",
    "    blurred = cv2.GaussianBlur(fingerprint_img, (5, 5), 0)\n",
    "\n",
    "    # Applying Sobel operator for edge detection\n",
    "    sobel_x = cv2.Sobel(blurred, cv2.CV_64F, 1, 0, ksize=3)\n",
    "    sobel_y = cv2.Sobel(blurred, cv2.CV_64F, 0, 1, ksize=3)\n",
    "    magnitude = np.sqrt(sobel_x**2 + sobel_y**2)\n",
    "    magnitude = np.uint8(magnitude)\n",
    "\n",
    "    # Threshold the edge magnitude to get binary image\n",
    "    _, binary = cv2.threshold(magnitude, 0, 255, cv2.THRESH_BINARY + cv2.THRESH_OTSU)\n",
    "\n",
    "    # Applying morphological operations to enhance the ridges\n",
    "    kernel = np.ones((3, 3), np.uint8)\n",
    "    binary = cv2.morphologyEx(binary, cv2.MORPH_CLOSE, kernel)\n",
    "\n",
    "    # Finding contours to identify fingerprint regions\n",
    "    contours, _ = cv2.findContours(binary, cv2.RETR_EXTERNAL, cv2.CHAIN_APPROX_SIMPLE)\n",
    "\n",
    "    # Draw contours on the original image\n",
    "    contours_img = cv2.cvtColor(fingerprint_img, cv2.COLOR_GRAY2BGR)\n",
    "    cv2.drawContours(contours_img, contours, -1, (0, 0, 255), 2)\n",
    "\n",
    "    # Convert the images to PIL format\n",
    "    edge_detection_result = Image.fromarray(magnitude)\n",
    "    binary_image = Image.fromarray(binary)\n",
    "    enhanced_binary_image = Image.fromarray(binary)\n",
    "    contours_image = Image.fromarray(cv2.cvtColor(contours_img, cv2.COLOR_BGR2RGB))\n",
    "\n",
    "    return edge_detection_result, binary_image, enhanced_binary_image, contours_image"
   ],
   "metadata": {
    "collapsed": false,
    "ExecuteTime": {
     "end_time": "2024-03-24T07:14:36.433616Z",
     "start_time": "2024-03-24T07:14:36.432516Z"
    }
   }
  },
  {
   "cell_type": "code",
   "execution_count": 67,
   "outputs": [],
   "source": [
    "edge_detection_results = []\n",
    "binary_images = []\n",
    "enhanced_binary_images = []\n",
    "contours_images = []"
   ],
   "metadata": {
    "collapsed": false,
    "ExecuteTime": {
     "end_time": "2024-03-24T07:14:36.436606Z",
     "start_time": "2024-03-24T07:14:36.435115Z"
    }
   }
  },
  {
   "cell_type": "code",
   "execution_count": 68,
   "outputs": [],
   "source": [
    "for folder_path in folder_paths:\n",
    "    edge_detection_results_per_folder = []\n",
    "    binary_images_per_folder = []\n",
    "    enhanced_binary_images_per_folder = []\n",
    "    contours_images_per_folder = []\n",
    "    count = 0\n",
    "    for filename in os.listdir(folder_path):\n",
    "        if count >= max_images_per_folder:\n",
    "            break\n",
    "        if filename.endswith(\".png\") or filename.endswith(\".jpg\"):\n",
    "            image_path = os.path.join(folder_path, filename)\n",
    "            edge_detection_result, binary_image, enhanced_binary_image, contours_image = process_fingerprint_image(image_path)\n",
    "            edge_detection_results_per_folder.append(edge_detection_result)\n",
    "            binary_images_per_folder.append(binary_image)\n",
    "            enhanced_binary_images_per_folder.append(enhanced_binary_image)\n",
    "            contours_images_per_folder.append(contours_image)\n",
    "            count += 1\n",
    "    edge_detection_results.append(edge_detection_results_per_folder)\n",
    "    binary_images.append(binary_images_per_folder)\n",
    "    enhanced_binary_images.append(enhanced_binary_images_per_folder)\n",
    "    contours_images.append(contours_images_per_folder)"
   ],
   "metadata": {
    "collapsed": false,
    "ExecuteTime": {
     "end_time": "2024-03-24T07:14:36.647410Z",
     "start_time": "2024-03-24T07:14:36.438895Z"
    }
   }
  },
  {
   "cell_type": "code",
   "execution_count": 69,
   "outputs": [],
   "source": [
    "image_width, image_height = edge_detection_results[0][0].size"
   ],
   "metadata": {
    "collapsed": false,
    "ExecuteTime": {
     "end_time": "2024-03-24T07:14:36.649225Z",
     "start_time": "2024-03-24T07:14:36.647579Z"
    }
   }
  },
  {
   "cell_type": "code",
   "execution_count": 70,
   "outputs": [],
   "source": [
    "grid_image_edges = Image.new('L', (image_width * grid_size[1], image_height * grid_size[0]))\n",
    "for i in range(grid_size[0]):\n",
    "    for j in range(grid_size[1]):\n",
    "        folder_index = j\n",
    "        image_index = i\n",
    "        if folder_index < len(edge_detection_results) and image_index < len(edge_detection_results[folder_index]):\n",
    "            img = edge_detection_results[folder_index][image_index]\n",
    "            grid_image_edges.paste(img, (j * image_width, i * image_height))"
   ],
   "metadata": {
    "collapsed": false,
    "ExecuteTime": {
     "end_time": "2024-03-24T07:14:36.654962Z",
     "start_time": "2024-03-24T07:14:36.651489Z"
    }
   }
  },
  {
   "cell_type": "code",
   "execution_count": 71,
   "outputs": [],
   "source": [
    "grid_image_edges.save(os.path.join(output_dir, \"5.Combined_edge_detection_results.png\"))"
   ],
   "metadata": {
    "collapsed": false,
    "ExecuteTime": {
     "end_time": "2024-03-24T07:14:37.157689Z",
     "start_time": "2024-03-24T07:14:36.655889Z"
    }
   }
  },
  {
   "cell_type": "code",
   "execution_count": 72,
   "outputs": [],
   "source": [
    "grid_image_binary = Image.new('L', (image_width * grid_size[1], image_height * grid_size[0]))\n",
    "for i in range(grid_size[0]):\n",
    "    for j in range(grid_size[1]):\n",
    "        folder_index = j\n",
    "        image_index = i\n",
    "        if folder_index < len(binary_images) and image_index < len(binary_images[folder_index]):\n",
    "            img = binary_images[folder_index][image_index]\n",
    "            grid_image_binary.paste(img, (j * image_width, i * image_height))"
   ],
   "metadata": {
    "collapsed": false,
    "ExecuteTime": {
     "end_time": "2024-03-24T07:14:37.163293Z",
     "start_time": "2024-03-24T07:14:37.158837Z"
    }
   }
  },
  {
   "cell_type": "code",
   "execution_count": 73,
   "outputs": [],
   "source": [
    "grid_image_binary.save(os.path.join(output_dir, \"6.Combined_binary_images.png\"))"
   ],
   "metadata": {
    "collapsed": false,
    "ExecuteTime": {
     "end_time": "2024-03-24T07:14:37.360280Z",
     "start_time": "2024-03-24T07:14:37.163515Z"
    }
   }
  },
  {
   "cell_type": "code",
   "execution_count": 74,
   "outputs": [],
   "source": [
    "grid_image_enhanced_binary = Image.new('L', (image_width * grid_size[1], image_height * grid_size[0]))\n",
    "for i in range(grid_size[0]):\n",
    "    for j in range(grid_size[1]):\n",
    "        folder_index = j\n",
    "        image_index = i\n",
    "        if folder_index < len(enhanced_binary_images) and image_index < len(enhanced_binary_images[folder_index]):\n",
    "            img = enhanced_binary_images[folder_index][image_index]\n",
    "            grid_image_enhanced_binary.paste(img, (j * image_width, i * image_height))"
   ],
   "metadata": {
    "collapsed": false,
    "ExecuteTime": {
     "end_time": "2024-03-24T07:14:37.365642Z",
     "start_time": "2024-03-24T07:14:37.361613Z"
    }
   }
  },
  {
   "cell_type": "code",
   "execution_count": 75,
   "outputs": [],
   "source": [
    "grid_image_enhanced_binary.save(os.path.join(output_dir, \"7.Combined_enhanced_binary_images.png\"))"
   ],
   "metadata": {
    "collapsed": false,
    "ExecuteTime": {
     "end_time": "2024-03-24T07:14:37.563892Z",
     "start_time": "2024-03-24T07:14:37.366501Z"
    }
   }
  },
  {
   "cell_type": "code",
   "execution_count": 76,
   "outputs": [],
   "source": [
    "combined_contours_image = Image.new('RGB', (image_width * grid_size[1], image_height * grid_size[0]))\n",
    "for i in range(grid_size[0]):\n",
    "    for j in range(grid_size[1]):\n",
    "        folder_index = j\n",
    "        image_index = i\n",
    "        if folder_index < len(contours_images) and image_index < len(contours_images[folder_index]):\n",
    "            img = contours_images[folder_index][image_index]\n",
    "            combined_contours_image.paste(img, (j * image_width, i * image_height))"
   ],
   "metadata": {
    "collapsed": false,
    "ExecuteTime": {
     "end_time": "2024-03-24T07:14:37.577619Z",
     "start_time": "2024-03-24T07:14:37.564924Z"
    }
   }
  },
  {
   "cell_type": "code",
   "execution_count": 77,
   "outputs": [],
   "source": [
    "combined_contours_image.save(os.path.join(output_dir, \"8.Combined_contours.png\"))"
   ],
   "metadata": {
    "collapsed": false,
    "ExecuteTime": {
     "end_time": "2024-03-24T07:14:39.530714Z",
     "start_time": "2024-03-24T07:14:37.578639Z"
    }
   }
  },
  {
   "cell_type": "code",
   "execution_count": 78,
   "outputs": [],
   "source": [
    "image_filenames = [\n",
    "    \"1.Combined_image.png\",\n",
    "    \"2.Combined_image_with_keypoints.png\",\n",
    "    \"3.Combined_edge_detection_results.png\",\n",
    "    \"4.Combined_lines_visualized_images.png\",\n",
    "    \"5.Combined_edge_detection_results.png\",\n",
    "    \"6.Combined_binary_images.png\",\n",
    "    \"7.Combined_enhanced_binary_images.png\",\n",
    "    \"8.Combined_contours.png\"\n",
    "]"
   ],
   "metadata": {
    "collapsed": false,
    "ExecuteTime": {
     "end_time": "2024-03-24T07:14:39.533147Z",
     "start_time": "2024-03-24T07:14:39.531560Z"
    }
   }
  },
  {
   "cell_type": "code",
   "execution_count": 79,
   "outputs": [],
   "source": [
    "frame_duration = 0.2"
   ],
   "metadata": {
    "collapsed": false,
    "ExecuteTime": {
     "end_time": "2024-03-24T07:14:39.535629Z",
     "start_time": "2024-03-24T07:14:39.534152Z"
    }
   }
  },
  {
   "cell_type": "code",
   "execution_count": 80,
   "outputs": [],
   "source": [
    "gif_path = os.path.join(output_dir, \"Total.gif\")"
   ],
   "metadata": {
    "collapsed": false,
    "ExecuteTime": {
     "end_time": "2024-03-24T07:14:39.538179Z",
     "start_time": "2024-03-24T07:14:39.536786Z"
    }
   }
  },
  {
   "cell_type": "code",
   "execution_count": 81,
   "outputs": [
    {
     "name": "stderr",
     "output_type": "stream",
     "text": [
      "/var/folders/vw/c2j4rkjd52z6m0m84r33nr7r0000gn/T/ipykernel_84367/1825934575.py:4: DeprecationWarning: Starting with ImageIO v3 the behavior of this function will switch to that of iio.v3.imread. To keep the current behavior (and make this warning disappear) use `import imageio.v2 as imageio` or call `imageio.v2.imread` directly.\n",
      "  image = imageio.imread(image_path)\n"
     ]
    }
   ],
   "source": [
    "with imageio.get_writer(gif_path, mode='I', duration=frame_duration) as writer:\n",
    "    for filename in image_filenames:\n",
    "        image_path = os.path.join(output_dir, filename)\n",
    "        image = imageio.imread(image_path)\n",
    "        writer.append_data(image)"
   ],
   "metadata": {
    "collapsed": false,
    "ExecuteTime": {
     "end_time": "2024-03-24T07:14:44.409353Z",
     "start_time": "2024-03-24T07:14:39.539568Z"
    }
   }
  }
 ],
 "metadata": {
  "kernelspec": {
   "display_name": "Python 3",
   "language": "python",
   "name": "python3"
  },
  "language_info": {
   "codemirror_mode": {
    "name": "ipython",
    "version": 2
   },
   "file_extension": ".py",
   "mimetype": "text/x-python",
   "name": "python",
   "nbconvert_exporter": "python",
   "pygments_lexer": "ipython2",
   "version": "2.7.6"
  }
 },
 "nbformat": 4,
 "nbformat_minor": 0
}
